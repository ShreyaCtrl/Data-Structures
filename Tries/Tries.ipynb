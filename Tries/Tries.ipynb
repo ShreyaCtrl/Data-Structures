{
 "cells": [
  {
   "cell_type": "markdown",
   "id": "00cf4f63",
   "metadata": {},
   "source": [
    "# Tries"
   ]
  },
  {
   "cell_type": "markdown",
   "id": "fcc20a99",
   "metadata": {},
   "source": [
    "## Properties of a Trie Data Structure"
   ]
  },
  {
   "cell_type": "markdown",
   "id": "920b2746",
   "metadata": {},
   "source": [
    "- There is one root node in each Trie.\n",
    "- Each node of a Trie represents a string and each edge represents a character.\n",
    "- Every node consists of hashmaps or an array of pointers, with each index representing a character and a flag to indicate if any string ends at the current node.\n",
    "- Trie data structure can contain any number of characters including alphabets, numbers, and special characters. But for this article, we will discuss strings with characters a-z. Therefore, only 26 pointers need for every node, where the 0th index represents ‘a’ and the 25th index represents ‘z’ characters.\n",
    "- Each path from the root to any node represents a word or string."
   ]
  },
  {
   "cell_type": "markdown",
   "id": "1907b696",
   "metadata": {},
   "source": [
    "## Insertion"
   ]
  },
  {
   "cell_type": "markdown",
   "id": "d79fe611",
   "metadata": {},
   "source": [
    "Algorithm:\n",
    "\n",
    "1. Define a function insert(TrieNode *root, string &word) which will take two parameters one for the root and the other for the string that we want to insert in the Trie data structure.\n",
    "2. Now take another pointer currentNode and initialize it with the root node.\n",
    "3. Iterate over the length of the given string and check if the value is NULL or not in the array of pointers at the current character of the string.\n",
    "    - If It’s NULL then, make a new node and point the current character to this newly created node.\n",
    "    - Move the curr to the newly created node.\n",
    "4. Finally, increment the wordCount of the last currentNode, this implies that there is a string ending currentNode."
   ]
  },
  {
   "cell_type": "markdown",
   "id": "b6a39afa",
   "metadata": {},
   "source": [
    "## Applications of Trie data structure:"
   ]
  },
  {
   "cell_type": "markdown",
   "id": "11263ed0",
   "metadata": {},
   "source": [
    "1. Autocomplete Feature: Autocomplete provides suggestions based on what you type in the search box. Trie data structure is used to implement autocomplete functionality.  \n",
    "2. Spell Checkers: If the word typed does not appear in the dictionary, then it shows suggestions based on what you typed.\n",
    "    It is a 3-step process that includes :\n",
    "\n",
    "    - Checking for the word in the data dictionary.\n",
    "    - Generating potential suggestions.\n",
    "    - Sorting the suggestions with higher priority on top.\n",
    "3. Longest Prefix Matching Algorithm(Maximum Prefix Length Match): This algorithm is used in networking by the routing devices in IP networking. Optimization of network routes requires contiguous masking that bound the complexity of lookup a time to O(n), where n is the length of the URL address in bits"
   ]
  },
  {
   "cell_type": "markdown",
   "id": "dcd42021",
   "metadata": {},
   "source": [
    "## Advantages of Trie data structure"
   ]
  },
  {
   "cell_type": "markdown",
   "id": "ab62a332",
   "metadata": {},
   "source": [
    "- Trie allows us to input and finds strings in O(l) time, where l is the length of a single word. It is faster as compared to both hash tables and binary search trees.\n",
    "- It provides alphabetical filtering of entries by the key of the node and hence makes it easier to print all words in alphabetical order.\n",
    "- Trie takes less space when compared to BST because the keys are not explicitly saved instead each key requires just an amortized fixed amount of space to be stored.\n",
    "- Prefix search/Longest prefix matching can be efficiently done with the help of trie data structure.\n",
    "- Since trie doesn’t need any hash function for its implementation so they are generally faster than hash tables for small keys like integers and pointers.\n",
    "- Tries support ordered iteration whereas iteration in a hash table will result in pseudorandom order given by the hash function which is usually more cumbersome.\n",
    "- Deletion is also a straightforward algorithm with O(l) as its time complexity, where l is the length of the word to be deleted."
   ]
  },
  {
   "cell_type": "markdown",
   "id": "5839811d",
   "metadata": {},
   "source": [
    "## Disadvantages of Trie data structure"
   ]
  },
  {
   "cell_type": "markdown",
   "id": "d2571733",
   "metadata": {},
   "source": [
    "- The main disadvantage of the trie is that it takes a lot of memory to store all the strings. For each node, we have too many node pointers which are equal to the no of characters in the worst case.\n",
    "- An efficiently constructed hash table(i.e. a good hash function and a reasonable load factor) has O(1) as lookup time which is way faster than O(l) in the case of a trie, where l is the length of the string."
   ]
  },
  {
   "cell_type": "markdown",
   "id": "b3134d65",
   "metadata": {},
   "source": [
    "## Standard Tries Code"
   ]
  },
  {
   "cell_type": "code",
   "execution_count": 1,
   "id": "4c2a1c6b",
   "metadata": {},
   "outputs": [
    {
     "name": "stdout",
     "output_type": "stream",
     "text": [
      "Number of strings to be inserted: 4\n",
      "Enter the word: night\n",
      "night  :  1\n",
      "night  :  1\n",
      "night  :  1\n",
      "night  :  1\n",
      "night  :  1\n",
      "Word inserted successfully\n",
      "Enter the word: nightwing\n",
      "nightwing  :  2\n",
      "nightwing  :  2\n",
      "nightwing  :  2\n",
      "nightwing  :  2\n",
      "nightwing  :  2\n",
      "nightwing  :  1\n",
      "nightwing  :  1\n",
      "nightwing  :  1\n",
      "nightwing  :  1\n",
      "Word inserted successfully\n",
      "Enter the word: nightstar\n",
      "nightstar  :  3\n",
      "nightstar  :  3\n",
      "nightstar  :  3\n",
      "nightstar  :  3\n",
      "nightstar  :  3\n",
      "nightstar  :  1\n",
      "nightstar  :  1\n",
      "nightstar  :  1\n",
      "nightstar  :  1\n",
      "Word inserted successfully\n",
      "Enter the word: batman\n",
      "batman  :  1\n",
      "batman  :  1\n",
      "batman  :  1\n",
      "batman  :  1\n",
      "batman  :  1\n",
      "batman  :  1\n",
      "Word inserted successfully\n",
      "1. Search a word\n",
      "2. Insert a word\n",
      "3. Delete a word\n",
      "3. Exit\n",
      "Enter your choice: 1\n",
      "Enter the word to be searched: night\n",
      "night  :  3\n",
      "night  :  3\n",
      "night  :  3\n",
      "night  :  3\n",
      "night  :  3\n",
      "Word found\n",
      "1. Search a word\n",
      "2. Insert a word\n",
      "3. Delete a word\n",
      "3. Exit\n",
      "Enter your choice: 3\n",
      "Enter the word to be deleted: night\n",
      "1. Search a word\n",
      "2. Insert a word\n",
      "3. Delete a word\n",
      "3. Exit\n",
      "Enter your choice: 1\n",
      "Enter the word to be searched: night\n",
      "night  :  2\n",
      "night  :  2\n",
      "night  :  2\n",
      "night  :  2\n",
      "night  :  2\n",
      "Word not found\n",
      "1. Search a word\n",
      "2. Insert a word\n",
      "3. Delete a word\n",
      "3. Exit\n",
      "Enter your choice: 3\n",
      "Enter the word to be deleted: 4\n",
      "1. Search a word\n",
      "2. Insert a word\n",
      "3. Delete a word\n",
      "3. Exit\n",
      "Enter your choice: 4\n"
     ]
    }
   ],
   "source": [
    "class TrieNode:\n",
    "    def __init__(self):\n",
    "        self.endOfWord = False\n",
    "        self.children = {}\n",
    "        self.countOfWords = 0\n",
    "        # print(type(self.children))\n",
    "    def insert(self, word):\n",
    "        currentNode = self\n",
    "        for i in range(len(word)):\n",
    "            if currentNode.children.get(word[i]) is None:\n",
    "                currentNode.children[word[i]] = TrieNode()\n",
    "                currentNode = currentNode.children[word[i]]\n",
    "                currentNode.countOfWords += 1\n",
    "                print(word,' : ',currentNode.countOfWords)\n",
    "            else:\n",
    "                currentNode = currentNode.children[word[i]]\n",
    "                currentNode.countOfWords += 1\n",
    "                print(word,' : ',currentNode.countOfWords)\n",
    "        currentNode.endOfWord = True\n",
    "        print('Word inserted successfully')\n",
    "\n",
    "    def search(self, word):\n",
    "        currentNode = self\n",
    "        for i in range(len(word)):\n",
    "            if currentNode.children.get(word[i]) is None:\n",
    "                print(word,' : ', currentNode.countOfWords)\n",
    "                return False\n",
    "            else:\n",
    "                currentNode = currentNode.children[word[i]]\n",
    "                print(word,' : ', currentNode.countOfWords)\n",
    "        if currentNode.endOfWord == True:\n",
    "            return True\n",
    "        else:\n",
    "            return False\n",
    "\n",
    "    def delete(self, word):\n",
    "        currentNode = self\n",
    "        for i in range(len(word)):\n",
    "            if currentNode.children.get(word[i]) is None:\n",
    "                return False\n",
    "            else:\n",
    "                currentNode.countOfWords -= 1\n",
    "                # Nothing common with other words\n",
    "                if currentNode.countOfWords == 0:\n",
    "                    deleteNode = currentNode\n",
    "                    # currentNode = currentNode.children[word[i]]\n",
    "                    deleteNode.children[word[i]] = None\n",
    "                elif currentNode.countOfWords != 0:\n",
    "                    deleteNode = currentNode\n",
    "                    currentNode = currentNode.children[word[i]]\n",
    "                    if currentNode.countOfWords == 1:\n",
    "                        deleteNode.children[word[i]] = None\n",
    "        currentNode.countOfWords -= 1\n",
    "        currentNode.endOfWord = False\n",
    "\n",
    "\n",
    "if __name__ == '__main__':\n",
    "    Root = TrieNode()\n",
    "    # print(type(Root.children))\n",
    "    n = int(input('Number of strings to be inserted: '))\n",
    "    for i in range(n):\n",
    "        word = input(\"Enter the word: \")\n",
    "        Root.insert(word)\n",
    "\n",
    "    switch = True\n",
    "    while(switch):\n",
    "        print('1. Search a word')\n",
    "        print('2. Insert a word')\n",
    "        print('3. Delete a word')\n",
    "        print('4. Exit')\n",
    "        choice = int(input('Enter your choice: '))\n",
    "        if choice == 1:\n",
    "            word = input('Enter the word to be searched: ')\n",
    "            if Root.search(word):\n",
    "                print('Word found')\n",
    "            else:\n",
    "                print('Word not found')\n",
    "        elif choice == 2:\n",
    "            word = input('Enter the word to be inserted: ')\n",
    "            Root.insert(word)\n",
    "        elif choice == 3:\n",
    "            word = input('Enter the word to be deleted: ')\n",
    "            Root.delete(word)\n",
    "        elif choice == 4:\n",
    "            switch = False\n",
    "        else:\n",
    "            print('Invalid choice')"
   ]
  }
 ],
 "metadata": {
  "kernelspec": {
   "display_name": "Python 3 (ipykernel)",
   "language": "python",
   "name": "python3"
  },
  "language_info": {
   "codemirror_mode": {
    "name": "ipython",
    "version": 3
   },
   "file_extension": ".py",
   "mimetype": "text/x-python",
   "name": "python",
   "nbconvert_exporter": "python",
   "pygments_lexer": "ipython3",
   "version": "3.10.9"
  }
 },
 "nbformat": 4,
 "nbformat_minor": 5
}
